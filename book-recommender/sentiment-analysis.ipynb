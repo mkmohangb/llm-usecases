{
 "cells": [
  {
   "cell_type": "code",
   "id": "initial_id",
   "metadata": {
    "collapsed": true,
    "ExecuteTime": {
     "end_time": "2025-02-28T11:49:49.915443Z",
     "start_time": "2025-02-28T11:49:49.418661Z"
    }
   },
   "source": [
    "import pandas as pd\n",
    "books = pd.read_csv(\"books_with_categories.csv\")"
   ],
   "outputs": [],
   "execution_count": 1
  },
  {
   "metadata": {
    "ExecuteTime": {
     "end_time": "2025-02-28T11:55:28.504679Z",
     "start_time": "2025-02-28T11:55:26.907292Z"
    }
   },
   "cell_type": "code",
   "source": [
    "from transformers import pipeline\n",
    "classifier = pipeline(\"text-classification\", model=\"j-hartmann/emotion-english-distilroberta-base\", top_k=None)\n",
    "classifier(\"I love this book!\")"
   ],
   "id": "96bb214283ba0361",
   "outputs": [
    {
     "data": {
      "text/plain": [
       "[[{'label': 'joy', 'score': 0.9771487712860107},\n",
       "  {'label': 'surprise', 'score': 0.010831079445779324},\n",
       "  {'label': 'neutral', 'score': 0.004581673536449671},\n",
       "  {'label': 'anger', 'score': 0.0037370002828538418},\n",
       "  {'label': 'sadness', 'score': 0.002046084962785244},\n",
       "  {'label': 'disgust', 'score': 0.0012559964088723063},\n",
       "  {'label': 'fear', 'score': 0.0003995068836957216}]]"
      ]
     },
     "execution_count": 6,
     "metadata": {},
     "output_type": "execute_result"
    }
   ],
   "execution_count": 6
  },
  {
   "metadata": {
    "ExecuteTime": {
     "end_time": "2025-02-28T11:55:57.855465Z",
     "start_time": "2025-02-28T11:55:57.684670Z"
    }
   },
   "cell_type": "code",
   "source": "classifier(books.description[0])",
   "id": "a820a896c4affac",
   "outputs": [
    {
     "data": {
      "text/plain": [
       "[[{'label': 'fear', 'score': 0.6548408269882202},\n",
       "  {'label': 'neutral', 'score': 0.16985218226909637},\n",
       "  {'label': 'sadness', 'score': 0.11640916764736176},\n",
       "  {'label': 'surprise', 'score': 0.020700693130493164},\n",
       "  {'label': 'disgust', 'score': 0.01910068467259407},\n",
       "  {'label': 'joy', 'score': 0.015161366201937199},\n",
       "  {'label': 'anger', 'score': 0.003935147542506456}]]"
      ]
     },
     "execution_count": 7,
     "metadata": {},
     "output_type": "execute_result"
    }
   ],
   "execution_count": 7
  },
  {
   "metadata": {
    "ExecuteTime": {
     "end_time": "2025-02-28T11:56:43.395027Z",
     "start_time": "2025-02-28T11:56:43.099380Z"
    }
   },
   "cell_type": "code",
   "source": [
    "#since description might have sentences that could convey different meanings run the prediction on each sentence\n",
    "classifier(books.description[0].split(\".\"))"
   ],
   "id": "3d734254493f66ca",
   "outputs": [
    {
     "data": {
      "text/plain": [
       "[[{'label': 'surprise', 'score': 0.7296027541160583},\n",
       "  {'label': 'neutral', 'score': 0.14038535952568054},\n",
       "  {'label': 'fear', 'score': 0.06816219538450241},\n",
       "  {'label': 'joy', 'score': 0.047942645847797394},\n",
       "  {'label': 'anger', 'score': 0.009156349115073681},\n",
       "  {'label': 'disgust', 'score': 0.002628469141200185},\n",
       "  {'label': 'sadness', 'score': 0.002122162841260433}],\n",
       " [{'label': 'neutral', 'score': 0.449370801448822},\n",
       "  {'label': 'disgust', 'score': 0.2735905647277832},\n",
       "  {'label': 'joy', 'score': 0.10908355563879013},\n",
       "  {'label': 'sadness', 'score': 0.09362763166427612},\n",
       "  {'label': 'anger', 'score': 0.040478263050317764},\n",
       "  {'label': 'surprise', 'score': 0.02697017416357994},\n",
       "  {'label': 'fear', 'score': 0.00687905540689826}],\n",
       " [{'label': 'neutral', 'score': 0.6462150812149048},\n",
       "  {'label': 'sadness', 'score': 0.24273422360420227},\n",
       "  {'label': 'disgust', 'score': 0.04342268407344818},\n",
       "  {'label': 'surprise', 'score': 0.028300533071160316},\n",
       "  {'label': 'joy', 'score': 0.014211464673280716},\n",
       "  {'label': 'fear', 'score': 0.014084087684750557},\n",
       "  {'label': 'anger', 'score': 0.011031892150640488}],\n",
       " [{'label': 'fear', 'score': 0.9281689524650574},\n",
       "  {'label': 'anger', 'score': 0.032190579921007156},\n",
       "  {'label': 'neutral', 'score': 0.012808583676815033},\n",
       "  {'label': 'sadness', 'score': 0.008756810799241066},\n",
       "  {'label': 'surprise', 'score': 0.008597836829721928},\n",
       "  {'label': 'disgust', 'score': 0.008431733585894108},\n",
       "  {'label': 'joy', 'score': 0.001045580138452351}],\n",
       " [{'label': 'sadness', 'score': 0.9671575427055359},\n",
       "  {'label': 'neutral', 'score': 0.015104135498404503},\n",
       "  {'label': 'disgust', 'score': 0.006480589509010315},\n",
       "  {'label': 'fear', 'score': 0.005393982864916325},\n",
       "  {'label': 'surprise', 'score': 0.0022869387175887823},\n",
       "  {'label': 'anger', 'score': 0.0018428885377943516},\n",
       "  {'label': 'joy', 'score': 0.001733876415528357}],\n",
       " [{'label': 'joy', 'score': 0.9327978491783142},\n",
       "  {'label': 'disgust', 'score': 0.03771726414561272},\n",
       "  {'label': 'neutral', 'score': 0.015891851857304573},\n",
       "  {'label': 'sadness', 'score': 0.006444528698921204},\n",
       "  {'label': 'anger', 'score': 0.005024985875934362},\n",
       "  {'label': 'surprise', 'score': 0.0015812076162546873},\n",
       "  {'label': 'fear', 'score': 0.0005423073307611048}],\n",
       " [{'label': 'joy', 'score': 0.6528704166412354},\n",
       "  {'label': 'neutral', 'score': 0.25427505373954773},\n",
       "  {'label': 'surprise', 'score': 0.06808298081159592},\n",
       "  {'label': 'sadness', 'score': 0.009908989071846008},\n",
       "  {'label': 'disgust', 'score': 0.006512222345918417},\n",
       "  {'label': 'anger', 'score': 0.004821306094527245},\n",
       "  {'label': 'fear', 'score': 0.0035290117375552654}],\n",
       " [{'label': 'neutral', 'score': 0.5494756102561951},\n",
       "  {'label': 'sadness', 'score': 0.11169031262397766},\n",
       "  {'label': 'disgust', 'score': 0.10400692373514175},\n",
       "  {'label': 'surprise', 'score': 0.07876571267843246},\n",
       "  {'label': 'anger', 'score': 0.06413384526968002},\n",
       "  {'label': 'fear', 'score': 0.05136299878358841},\n",
       "  {'label': 'joy', 'score': 0.04056460037827492}]]"
      ]
     },
     "execution_count": 8,
     "metadata": {},
     "output_type": "execute_result"
    }
   ],
   "execution_count": 8
  },
  {
   "metadata": {
    "ExecuteTime": {
     "end_time": "2025-02-28T11:58:02.303093Z",
     "start_time": "2025-02-28T11:58:02.009826Z"
    }
   },
   "cell_type": "code",
   "source": [
    "sentences = books.description[0].split(\".\")\n",
    "predictions = classifier(sentences)"
   ],
   "id": "c3d3fb702d417893",
   "outputs": [],
   "execution_count": 10
  },
  {
   "metadata": {
    "ExecuteTime": {
     "end_time": "2025-02-28T11:58:44.921023Z",
     "start_time": "2025-02-28T11:58:44.914011Z"
    }
   },
   "cell_type": "code",
   "source": "sentences[3], predictions[3]",
   "id": "57534742fbfeb345",
   "outputs": [
    {
     "data": {
      "text/plain": [
       "(' Haunted by his grandfather’s presence, John tells of the rift between his grandfather and his father: the elder, an angry visionary who fought for the abolitionist cause, and his son, an ardent pacifist',\n",
       " [{'label': 'fear', 'score': 0.9281689524650574},\n",
       "  {'label': 'anger', 'score': 0.032190579921007156},\n",
       "  {'label': 'neutral', 'score': 0.012808583676815033},\n",
       "  {'label': 'sadness', 'score': 0.008756810799241066},\n",
       "  {'label': 'surprise', 'score': 0.008597836829721928},\n",
       "  {'label': 'disgust', 'score': 0.008431733585894108},\n",
       "  {'label': 'joy', 'score': 0.001045580138452351}])"
      ]
     },
     "execution_count": 13,
     "metadata": {},
     "output_type": "execute_result"
    }
   ],
   "execution_count": 13
  },
  {
   "metadata": {
    "ExecuteTime": {
     "end_time": "2025-02-28T12:00:39.055786Z",
     "start_time": "2025-02-28T12:00:39.043863Z"
    }
   },
   "cell_type": "code",
   "source": "sorted(predictions[3], key=lambda x: x['label'])",
   "id": "c73872b12fc51e40",
   "outputs": [
    {
     "data": {
      "text/plain": [
       "[{'label': 'anger', 'score': 0.032190579921007156},\n",
       " {'label': 'disgust', 'score': 0.008431733585894108},\n",
       " {'label': 'fear', 'score': 0.9281689524650574},\n",
       " {'label': 'joy', 'score': 0.001045580138452351},\n",
       " {'label': 'neutral', 'score': 0.012808583676815033},\n",
       " {'label': 'sadness', 'score': 0.008756810799241066},\n",
       " {'label': 'surprise', 'score': 0.008597836829721928}]"
      ]
     },
     "execution_count": 14,
     "metadata": {},
     "output_type": "execute_result"
    }
   ],
   "execution_count": 14
  },
  {
   "metadata": {
    "ExecuteTime": {
     "end_time": "2025-02-28T12:16:52.963789Z",
     "start_time": "2025-02-28T12:16:52.947216Z"
    }
   },
   "cell_type": "code",
   "source": [
    "import numpy as np\n",
    "\n",
    "emotion_labels = [\"anger\", \"disgust\", \"fear\", \"joy\", \"sadness\", \"surprise\", \"neutral\"]\n",
    "isbn = []\n",
    "emotion_scores = {label: [] for label in emotion_labels}\n",
    "\n",
    "def calculate_max_emotion_scores(predictions):\n",
    "    per_emotion_scores = {label: [] for label in emotion_labels}\n",
    "    for prediction in predictions:\n",
    "        sorted_predictions = sorted(prediction, key=lambda x: x['label'])\n",
    "        for index, label in enumerate(emotion_labels):\n",
    "            per_emotion_scores[label].append(sorted_predictions[index]['score'])\n",
    "    return {label: np.max(scores) for label, scores in per_emotion_scores.items()}"
   ],
   "id": "6d3a0ff4735467ad",
   "outputs": [],
   "execution_count": 15
  },
  {
   "metadata": {
    "ExecuteTime": {
     "end_time": "2025-02-28T12:18:40.179612Z",
     "start_time": "2025-02-28T12:18:37.664334Z"
    }
   },
   "cell_type": "code",
   "source": [
    "for i in range(10):\n",
    "    isbn.append(books.isbn13[i])\n",
    "    sentences = books.description[i].split(\".\")\n",
    "    predictions = classifier(sentences)\n",
    "    max_scores = calculate_max_emotion_scores(predictions)\n",
    "    for label in emotion_labels:\n",
    "        emotion_scores[label].append(max_scores[label])"
   ],
   "id": "a3f876ea53c3c47f",
   "outputs": [],
   "execution_count": 16
  },
  {
   "metadata": {
    "ExecuteTime": {
     "end_time": "2025-02-28T12:19:06.261608Z",
     "start_time": "2025-02-28T12:19:06.250844Z"
    }
   },
   "cell_type": "code",
   "source": "emotion_scores['anger'], emotion_scores['disgust']",
   "id": "4d11b5ec099293c9",
   "outputs": [
    {
     "data": {
      "text/plain": [
       "([0.06413384526968002,\n",
       "  0.6126174926757812,\n",
       "  0.06413384526968002,\n",
       "  0.3514835238456726,\n",
       "  0.08141230791807175,\n",
       "  0.23222479224205017,\n",
       "  0.5381848812103271,\n",
       "  0.06413384526968002,\n",
       "  0.30066993832588196,\n",
       "  0.06413384526968002],\n",
       " [0.2735905647277832,\n",
       "  0.34828636050224304,\n",
       "  0.10400692373514175,\n",
       "  0.15072260797023773,\n",
       "  0.18449553847312927,\n",
       "  0.7271748781204224,\n",
       "  0.15585485100746155,\n",
       "  0.10400692373514175,\n",
       "  0.27948155999183655,\n",
       "  0.1779262125492096])"
      ]
     },
     "execution_count": 18,
     "metadata": {},
     "output_type": "execute_result"
    }
   ],
   "execution_count": 18
  },
  {
   "metadata": {
    "ExecuteTime": {
     "end_time": "2025-02-28T12:31:44.086002Z",
     "start_time": "2025-02-28T12:19:49.290220Z"
    }
   },
   "cell_type": "code",
   "source": [
    "from tqdm import tqdm\n",
    "\n",
    "emotion_labels = [\"anger\", \"disgust\", \"fear\", \"joy\", \"sadness\", \"surprise\", \"neutral\"]\n",
    "isbn = []\n",
    "emotion_scores = {label: [] for label in emotion_labels}\n",
    "\n",
    "for i in tqdm(range(len(books))):\n",
    "    isbn.append(books[\"isbn13\"][i])\n",
    "    sentences = books[\"description\"][i].split(\".\")\n",
    "    predictions = classifier(sentences)\n",
    "    max_scores = calculate_max_emotion_scores(predictions)\n",
    "    for label in emotion_labels:\n",
    "        emotion_scores[label].append(max_scores[label])"
   ],
   "id": "145d5e35b66695fe",
   "outputs": [
    {
     "name": "stderr",
     "output_type": "stream",
     "text": [
      "100%|██████████| 5197/5197 [11:54<00:00,  7.27it/s]\n"
     ]
    }
   ],
   "execution_count": 19
  },
  {
   "metadata": {
    "ExecuteTime": {
     "end_time": "2025-02-28T12:31:44.460581Z",
     "start_time": "2025-02-28T12:31:44.384018Z"
    }
   },
   "cell_type": "code",
   "source": [
    "emotions_df = pd.DataFrame(emotion_scores)\n",
    "emotions_df['isbn13'] = isbn\n",
    "emotions_df"
   ],
   "id": "6e7cb9bf58032975",
   "outputs": [
    {
     "data": {
      "text/plain": [
       "         anger   disgust      fear       joy   sadness  surprise   neutral  \\\n",
       "0     0.064134  0.273591  0.928169  0.932798  0.646215  0.967158  0.729603   \n",
       "1     0.612617  0.348286  0.942528  0.704423  0.887940  0.111690  0.252546   \n",
       "2     0.064134  0.104007  0.972321  0.767238  0.549476  0.111690  0.078766   \n",
       "3     0.351484  0.150723  0.360706  0.251882  0.732686  0.111690  0.078766   \n",
       "4     0.081412  0.184496  0.095043  0.040565  0.884390  0.475880  0.078766   \n",
       "...        ...       ...       ...       ...       ...       ...       ...   \n",
       "5192  0.148209  0.030643  0.919165  0.255171  0.853721  0.980877  0.030656   \n",
       "5193  0.064134  0.114383  0.051363  0.400263  0.883198  0.111690  0.227765   \n",
       "5194  0.009997  0.009929  0.339217  0.947779  0.375754  0.066685  0.057625   \n",
       "5195  0.064134  0.104007  0.459271  0.759456  0.951104  0.368111  0.078766   \n",
       "5196  0.064134  0.104007  0.051363  0.958549  0.915193  0.111690  0.078766   \n",
       "\n",
       "             isbn13  \n",
       "0     9780002005883  \n",
       "1     9780002261982  \n",
       "2     9780006178736  \n",
       "3     9780006280897  \n",
       "4     9780006280934  \n",
       "...             ...  \n",
       "5192  9788172235222  \n",
       "5193  9788173031014  \n",
       "5194  9788179921623  \n",
       "5195  9788185300535  \n",
       "5196  9789027712059  \n",
       "\n",
       "[5197 rows x 8 columns]"
      ],
      "text/html": [
       "<div>\n",
       "<style scoped>\n",
       "    .dataframe tbody tr th:only-of-type {\n",
       "        vertical-align: middle;\n",
       "    }\n",
       "\n",
       "    .dataframe tbody tr th {\n",
       "        vertical-align: top;\n",
       "    }\n",
       "\n",
       "    .dataframe thead th {\n",
       "        text-align: right;\n",
       "    }\n",
       "</style>\n",
       "<table border=\"1\" class=\"dataframe\">\n",
       "  <thead>\n",
       "    <tr style=\"text-align: right;\">\n",
       "      <th></th>\n",
       "      <th>anger</th>\n",
       "      <th>disgust</th>\n",
       "      <th>fear</th>\n",
       "      <th>joy</th>\n",
       "      <th>sadness</th>\n",
       "      <th>surprise</th>\n",
       "      <th>neutral</th>\n",
       "      <th>isbn13</th>\n",
       "    </tr>\n",
       "  </thead>\n",
       "  <tbody>\n",
       "    <tr>\n",
       "      <th>0</th>\n",
       "      <td>0.064134</td>\n",
       "      <td>0.273591</td>\n",
       "      <td>0.928169</td>\n",
       "      <td>0.932798</td>\n",
       "      <td>0.646215</td>\n",
       "      <td>0.967158</td>\n",
       "      <td>0.729603</td>\n",
       "      <td>9780002005883</td>\n",
       "    </tr>\n",
       "    <tr>\n",
       "      <th>1</th>\n",
       "      <td>0.612617</td>\n",
       "      <td>0.348286</td>\n",
       "      <td>0.942528</td>\n",
       "      <td>0.704423</td>\n",
       "      <td>0.887940</td>\n",
       "      <td>0.111690</td>\n",
       "      <td>0.252546</td>\n",
       "      <td>9780002261982</td>\n",
       "    </tr>\n",
       "    <tr>\n",
       "      <th>2</th>\n",
       "      <td>0.064134</td>\n",
       "      <td>0.104007</td>\n",
       "      <td>0.972321</td>\n",
       "      <td>0.767238</td>\n",
       "      <td>0.549476</td>\n",
       "      <td>0.111690</td>\n",
       "      <td>0.078766</td>\n",
       "      <td>9780006178736</td>\n",
       "    </tr>\n",
       "    <tr>\n",
       "      <th>3</th>\n",
       "      <td>0.351484</td>\n",
       "      <td>0.150723</td>\n",
       "      <td>0.360706</td>\n",
       "      <td>0.251882</td>\n",
       "      <td>0.732686</td>\n",
       "      <td>0.111690</td>\n",
       "      <td>0.078766</td>\n",
       "      <td>9780006280897</td>\n",
       "    </tr>\n",
       "    <tr>\n",
       "      <th>4</th>\n",
       "      <td>0.081412</td>\n",
       "      <td>0.184496</td>\n",
       "      <td>0.095043</td>\n",
       "      <td>0.040565</td>\n",
       "      <td>0.884390</td>\n",
       "      <td>0.475880</td>\n",
       "      <td>0.078766</td>\n",
       "      <td>9780006280934</td>\n",
       "    </tr>\n",
       "    <tr>\n",
       "      <th>...</th>\n",
       "      <td>...</td>\n",
       "      <td>...</td>\n",
       "      <td>...</td>\n",
       "      <td>...</td>\n",
       "      <td>...</td>\n",
       "      <td>...</td>\n",
       "      <td>...</td>\n",
       "      <td>...</td>\n",
       "    </tr>\n",
       "    <tr>\n",
       "      <th>5192</th>\n",
       "      <td>0.148209</td>\n",
       "      <td>0.030643</td>\n",
       "      <td>0.919165</td>\n",
       "      <td>0.255171</td>\n",
       "      <td>0.853721</td>\n",
       "      <td>0.980877</td>\n",
       "      <td>0.030656</td>\n",
       "      <td>9788172235222</td>\n",
       "    </tr>\n",
       "    <tr>\n",
       "      <th>5193</th>\n",
       "      <td>0.064134</td>\n",
       "      <td>0.114383</td>\n",
       "      <td>0.051363</td>\n",
       "      <td>0.400263</td>\n",
       "      <td>0.883198</td>\n",
       "      <td>0.111690</td>\n",
       "      <td>0.227765</td>\n",
       "      <td>9788173031014</td>\n",
       "    </tr>\n",
       "    <tr>\n",
       "      <th>5194</th>\n",
       "      <td>0.009997</td>\n",
       "      <td>0.009929</td>\n",
       "      <td>0.339217</td>\n",
       "      <td>0.947779</td>\n",
       "      <td>0.375754</td>\n",
       "      <td>0.066685</td>\n",
       "      <td>0.057625</td>\n",
       "      <td>9788179921623</td>\n",
       "    </tr>\n",
       "    <tr>\n",
       "      <th>5195</th>\n",
       "      <td>0.064134</td>\n",
       "      <td>0.104007</td>\n",
       "      <td>0.459271</td>\n",
       "      <td>0.759456</td>\n",
       "      <td>0.951104</td>\n",
       "      <td>0.368111</td>\n",
       "      <td>0.078766</td>\n",
       "      <td>9788185300535</td>\n",
       "    </tr>\n",
       "    <tr>\n",
       "      <th>5196</th>\n",
       "      <td>0.064134</td>\n",
       "      <td>0.104007</td>\n",
       "      <td>0.051363</td>\n",
       "      <td>0.958549</td>\n",
       "      <td>0.915193</td>\n",
       "      <td>0.111690</td>\n",
       "      <td>0.078766</td>\n",
       "      <td>9789027712059</td>\n",
       "    </tr>\n",
       "  </tbody>\n",
       "</table>\n",
       "<p>5197 rows × 8 columns</p>\n",
       "</div>"
      ]
     },
     "execution_count": 20,
     "metadata": {},
     "output_type": "execute_result"
    }
   ],
   "execution_count": 20
  },
  {
   "metadata": {
    "ExecuteTime": {
     "end_time": "2025-02-28T12:31:44.706915Z",
     "start_time": "2025-02-28T12:31:44.650080Z"
    }
   },
   "cell_type": "code",
   "source": "books = pd.merge(books, emotions_df, on = \"isbn13\")",
   "id": "795bfed59a42027",
   "outputs": [],
   "execution_count": 21
  },
  {
   "metadata": {
    "ExecuteTime": {
     "end_time": "2025-02-28T12:31:44.992067Z",
     "start_time": "2025-02-28T12:31:44.858123Z"
    }
   },
   "cell_type": "code",
   "source": "books.to_csv(\"books_with_emotions.csv\", index = False)",
   "id": "7381d239e8b6a591",
   "outputs": [],
   "execution_count": 22
  },
  {
   "metadata": {},
   "cell_type": "code",
   "outputs": [],
   "execution_count": null,
   "source": "",
   "id": "c20de0e13e78976f"
  }
 ],
 "metadata": {
  "kernelspec": {
   "display_name": "Python 3",
   "language": "python",
   "name": "python3"
  },
  "language_info": {
   "codemirror_mode": {
    "name": "ipython",
    "version": 2
   },
   "file_extension": ".py",
   "mimetype": "text/x-python",
   "name": "python",
   "nbconvert_exporter": "python",
   "pygments_lexer": "ipython2",
   "version": "2.7.6"
  }
 },
 "nbformat": 4,
 "nbformat_minor": 5
}
